{
 "cells": [
  {
   "cell_type": "code",
   "execution_count": 1,
   "metadata": {},
   "outputs": [],
   "source": [
    "import os"
   ]
  },
  {
   "cell_type": "code",
   "execution_count": 2,
   "metadata": {},
   "outputs": [
    {
     "data": {
      "text/plain": [
       "'c:\\\\Users\\\\Vincent\\\\Desktop\\\\text-classification-Trials\\\\notebook'"
      ]
     },
     "execution_count": 2,
     "metadata": {},
     "output_type": "execute_result"
    }
   ],
   "source": [
    "%pwd"
   ]
  },
  {
   "cell_type": "code",
   "execution_count": 3,
   "metadata": {},
   "outputs": [],
   "source": [
    "os.chdir(\"../\")"
   ]
  },
  {
   "cell_type": "code",
   "execution_count": 4,
   "metadata": {},
   "outputs": [
    {
     "data": {
      "text/plain": [
       "'c:\\\\Users\\\\Vincent\\\\Desktop\\\\text-classification-Trials'"
      ]
     },
     "execution_count": 4,
     "metadata": {},
     "output_type": "execute_result"
    }
   ],
   "source": [
    "%pwd"
   ]
  },
  {
   "cell_type": "code",
   "execution_count": 5,
   "metadata": {},
   "outputs": [],
   "source": [
    "from dataclasses import dataclass\n",
    "from pathlib import Path\n",
    "\n",
    "@dataclass(frozen=True)\n",
    "class DataTransformationConfig:\n",
    "    root_dir: Path\n",
    "    tokenizer_data_path: Path\n",
    "    X_train_data_path: Path\n",
    "    X_test_data_path: Path\n",
    "    y_train_data_path: Path\n",
    "    y_test_data_path: Path\n",
    "    X_val_data_path: Path\n",
    "    y_val_data_path: Path\n",
    "    raw_data_path: Path\n",
    "    train_dataset_path: Path\n",
    "    val_dataset_path: Path\n",
    "    test_dataset_path: Path"
   ]
  },
  {
   "cell_type": "code",
   "execution_count": 6,
   "metadata": {},
   "outputs": [],
   "source": [
    "from src.constants import *\n",
    "from src.utils.common import read_yaml, create_directories"
   ]
  },
  {
   "cell_type": "code",
   "execution_count": 7,
   "metadata": {},
   "outputs": [],
   "source": [
    "## Update the configuration manager in src config\n",
    "\n",
    "class ConfigurationManager:\n",
    "    def __init__(\n",
    "        self, \n",
    "        config_filepath = CONFIG_FILE_PATH):\n",
    "        \n",
    "        self.config = read_yaml(config_filepath)\n",
    "\n",
    "        create_directories([self.config.output_root])\n",
    "    \n",
    "    def get_data_transformation_config(self) -> DataTransformationConfig:\n",
    "        config = self.config.data_transformation\n",
    "\n",
    "        create_directories([config.root_dir])\n",
    "\n",
    "        data_transformation_config = DataTransformationConfig(\n",
    "            root_dir=config.root_dir,\n",
    "            tokenizer_data_path=config.tokenizer_data_path,\n",
    "            X_train_data_path=config.X_train_data_path,\n",
    "            X_test_data_path=config.X_test_data_path,\n",
    "            y_train_data_path=config.y_train_data_path,\n",
    "            y_test_data_path=config.y_test_data_path,\n",
    "            X_val_data_path=config.X_val_data_path,\n",
    "            y_val_data_path=config.y_val_data_path,\n",
    "            raw_data_path=config.raw_data_path,\n",
    "            train_dataset_path=config.train_dataset_path,\n",
    "            val_dataset_path=config.val_dataset_path,\n",
    "            test_dataset_path=config.test_dataset_path\n",
    "        )\n",
    "\n",
    "        return data_transformation_config"
   ]
  },
  {
   "cell_type": "code",
   "execution_count": 8,
   "metadata": {},
   "outputs": [
    {
     "name": "stderr",
     "output_type": "stream",
     "text": [
      "c:\\Users\\Vincent\\anaconda3\\envs\\nlpenv\\lib\\site-packages\\tqdm\\auto.py:21: TqdmWarning: IProgress not found. Please update jupyter and ipywidgets. See https://ipywidgets.readthedocs.io/en/stable/user_install.html\n",
      "  from .autonotebook import tqdm as notebook_tqdm\n"
     ]
    }
   ],
   "source": [
    "import numpy as np\n",
    "import pandas as pd\n",
    "import tensorflow as tf\n",
    "import tensorflow.keras as keras\n",
    "from transformers import AutoTokenizer\n",
    "from src.utils.common import save_tokenizer\n",
    "from src.exception import CustomException\n",
    "from src import logger\n",
    "import os\n",
    "import sys"
   ]
  },
  {
   "cell_type": "code",
   "execution_count": 9,
   "metadata": {},
   "outputs": [],
   "source": [
    "## 5. Update the components\n",
    "\n",
    "class DataTransformation:\n",
    "    def __init__(self, config: DataTransformationConfig):\n",
    "        self.config=config\n",
    "        \n",
    "    def tokenizing(self):\n",
    "        '''\n",
    "        This function is responsible for tokenizing the data\n",
    "        \n",
    "        '''\n",
    "\n",
    "        logger.info(\"Loading tokenizer from pretrained model\")\n",
    "        tokenizer = AutoTokenizer.from_pretrained('distilbert-base-uncased')\n",
    "\n",
    "        logger.info(\"Saving tokenizer from pretrained model\")\n",
    "        save_tokenizer(self.config.tokenizer_data_path, tokenizer)\n",
    "\n",
    "        logger.info(\"Reading in train, val and test text data\")        \n",
    "        train_texts=pd.read_csv(self.config.X_train_data_path)\n",
    "        train_texts = train_texts[\"TITLE\"].to_list()\n",
    "        train_labels=pd.read_csv(self.config.y_train_data_path)\n",
    "        train_labels = train_labels[\"TARGET\"].to_list()\n",
    "        val_texts=pd.read_csv(self.config.X_val_data_path)\n",
    "        val_texts = val_texts[\"TITLE\"].to_list()\n",
    "        val_labels=pd.read_csv(self.config.y_val_data_path)\n",
    "        val_labels = val_labels[\"TARGET\"].to_list()\n",
    "        test_texts=pd.read_csv(self.config.X_test_data_path)\n",
    "        test_texts = test_texts[\"TITLE\"].to_list()\n",
    "        test_labels=pd.read_csv(self.config.y_test_data_path)\n",
    "        test_labels = test_labels[\"TARGET\"].to_list()\n",
    "        \n",
    "        logger.info(\"Tokenzing the train, val and test text data\") \n",
    "        train_encodings = tokenizer(train_texts, padding=True, truncation=True)\n",
    "        val_encodings = tokenizer(val_texts, padding=True, truncation=True)\n",
    "        test_encodings = tokenizer(test_texts, padding=True, truncation=True)\n",
    "\n",
    "        logger.info(\"Generating the train, val and test datasets.\") \n",
    "        batch_size = 16\n",
    "        \n",
    "        train_dataset = tf.data.Dataset.from_tensor_slices((\n",
    "            dict(train_encodings),\n",
    "            train_labels\n",
    "        )).batch(batch_size)\n",
    "\n",
    "        val_dataset = tf.data.Dataset.from_tensor_slices((\n",
    "            dict(val_encodings),\n",
    "            val_labels\n",
    "        )).batch(batch_size)\n",
    "\n",
    "        test_dataset = tf.data.Dataset.from_tensor_slices((\n",
    "            dict(test_encodings),\n",
    "            test_labels\n",
    "        )).batch(batch_size)\n",
    "\n",
    "        logger.info(f\"Saving the train, val and test datasets.\")\n",
    "        train_dataset.save(self.config.train_dataset_path)\n",
    "        val_dataset.save(self.config.val_dataset_path)\n",
    "        test_dataset.save(self.config.test_dataset_path)\n",
    "        \n",
    "        return (\n",
    "                train_dataset,\n",
    "                val_dataset,\n",
    "                test_dataset\n",
    "            )"
   ]
  },
  {
   "cell_type": "code",
   "execution_count": 10,
   "metadata": {},
   "outputs": [
    {
     "name": "stdout",
     "output_type": "stream",
     "text": [
      "[2024-07-15 10:14:29,025: INFO: common: yaml file: config\\config.yaml loaded successfully]\n",
      "[2024-07-15 10:14:29,027: INFO: common: created directory at: output]\n",
      "[2024-07-15 10:14:29,028: INFO: common: created directory at: output/data_transformation]\n",
      "[2024-07-15 10:14:29,028: INFO: 1408085289: Loading tokenizer from pretrained model]\n",
      "[2024-07-15 10:14:29,396: INFO: 1408085289: Saving tokenizer from pretrained model]\n",
      "[2024-07-15 10:14:29,396: INFO: 1408085289: Reading in train, val and test text data]\n",
      "[2024-07-15 10:14:29,502: INFO: 1408085289: Tokenzing the train, val and test text data]\n",
      "[2024-07-15 10:14:30,260: INFO: 1408085289: Generating the train, val and test datasets.]\n",
      "[2024-07-15 10:14:57,980: INFO: 1408085289: Saving the train, val and test datasets.]\n"
     ]
    }
   ],
   "source": [
    "## 6. Update the pipeline\n",
    "\n",
    "try:\n",
    "    config = ConfigurationManager()\n",
    "    data_transformation_config = config.get_data_transformation_config()\n",
    "    data_transformation = DataTransformation(config=data_transformation_config)\n",
    "    data_transformation.tokenizing()\n",
    "except Exception as e:\n",
    "  raise e"
   ]
  },
  {
   "cell_type": "code",
   "execution_count": null,
   "metadata": {},
   "outputs": [],
   "source": []
  },
  {
   "cell_type": "code",
   "execution_count": null,
   "metadata": {},
   "outputs": [],
   "source": []
  },
  {
   "cell_type": "code",
   "execution_count": null,
   "metadata": {},
   "outputs": [],
   "source": []
  },
  {
   "cell_type": "code",
   "execution_count": null,
   "metadata": {},
   "outputs": [],
   "source": []
  },
  {
   "cell_type": "code",
   "execution_count": null,
   "metadata": {},
   "outputs": [],
   "source": []
  },
  {
   "cell_type": "code",
   "execution_count": null,
   "metadata": {},
   "outputs": [],
   "source": []
  },
  {
   "cell_type": "code",
   "execution_count": null,
   "metadata": {},
   "outputs": [],
   "source": []
  },
  {
   "cell_type": "code",
   "execution_count": null,
   "metadata": {},
   "outputs": [],
   "source": []
  },
  {
   "cell_type": "code",
   "execution_count": null,
   "metadata": {},
   "outputs": [],
   "source": []
  },
  {
   "cell_type": "code",
   "execution_count": null,
   "metadata": {},
   "outputs": [],
   "source": []
  }
 ],
 "metadata": {
  "kernelspec": {
   "display_name": "nlpenv",
   "language": "python",
   "name": "python3"
  },
  "language_info": {
   "codemirror_mode": {
    "name": "ipython",
    "version": 3
   },
   "file_extension": ".py",
   "mimetype": "text/x-python",
   "name": "python",
   "nbconvert_exporter": "python",
   "pygments_lexer": "ipython3",
   "version": "3.8.19"
  }
 },
 "nbformat": 4,
 "nbformat_minor": 2
}
