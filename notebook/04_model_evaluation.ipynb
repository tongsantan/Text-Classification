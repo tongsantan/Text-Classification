{
 "cells": [
  {
   "cell_type": "code",
   "execution_count": 1,
   "metadata": {},
   "outputs": [],
   "source": [
    "import os"
   ]
  },
  {
   "cell_type": "code",
   "execution_count": 2,
   "metadata": {},
   "outputs": [
    {
     "data": {
      "text/plain": [
       "'c:\\\\Users\\\\Vincent\\\\Desktop\\\\text-classification-Trials\\\\notebook'"
      ]
     },
     "execution_count": 2,
     "metadata": {},
     "output_type": "execute_result"
    }
   ],
   "source": [
    "%pwd"
   ]
  },
  {
   "cell_type": "code",
   "execution_count": 3,
   "metadata": {},
   "outputs": [],
   "source": [
    "os.chdir(\"../\")"
   ]
  },
  {
   "cell_type": "code",
   "execution_count": 4,
   "metadata": {},
   "outputs": [
    {
     "data": {
      "text/plain": [
       "'c:\\\\Users\\\\Vincent\\\\Desktop\\\\text-classification-Trials'"
      ]
     },
     "execution_count": 4,
     "metadata": {},
     "output_type": "execute_result"
    }
   ],
   "source": [
    "%pwd"
   ]
  },
  {
   "cell_type": "code",
   "execution_count": 5,
   "metadata": {},
   "outputs": [],
   "source": [
    "from dataclasses import dataclass\n",
    "from pathlib import Path\n",
    "\n",
    "@dataclass(frozen=True)\n",
    "class ModelEvaluationConfig:\n",
    "  root_dir: Path\n",
    "  model_data_path: Path\n",
    "  tokenizer_data_path: Path"
   ]
  },
  {
   "cell_type": "code",
   "execution_count": 6,
   "metadata": {},
   "outputs": [],
   "source": [
    "from src.constants import *\n",
    "from src.utils.common import read_yaml, create_directories"
   ]
  },
  {
   "cell_type": "code",
   "execution_count": 7,
   "metadata": {},
   "outputs": [],
   "source": [
    "## Update the configuration manager in src config\n",
    "\n",
    "class ConfigurationManager:\n",
    "    def __init__(\n",
    "        self, \n",
    "        config_filepath = CONFIG_FILE_PATH):\n",
    "        \n",
    "        self.config = read_yaml(config_filepath)\n",
    "\n",
    "        create_directories([self.config.output_root])\n",
    "    \n",
    "    def get_model_evaluation_config(self) -> ModelEvaluationConfig:\n",
    "        config = self.config.model_evaluation\n",
    "\n",
    "        create_directories([config.root_dir])\n",
    "\n",
    "        model_evaluation_config = ModelEvaluationConfig(\n",
    "            root_dir=config.root_dir,\n",
    "            model_data_path=config.model_data_path,\n",
    "            tokenizer_data_path=config.tokenizer_data_path\n",
    "        )\n",
    "\n",
    "        return model_evaluation_config"
   ]
  },
  {
   "cell_type": "code",
   "execution_count": 8,
   "metadata": {},
   "outputs": [
    {
     "name": "stderr",
     "output_type": "stream",
     "text": [
      "c:\\Users\\Vincent\\anaconda3\\envs\\nlpenv\\lib\\site-packages\\tqdm\\auto.py:21: TqdmWarning: IProgress not found. Please update jupyter and ipywidgets. See https://ipywidgets.readthedocs.io/en/stable/user_install.html\n",
      "  from .autonotebook import tqdm as notebook_tqdm\n"
     ]
    }
   ],
   "source": [
    "import numpy as np\n",
    "import tensorflow as tf\n",
    "import tensorflow.keras as keras\n",
    "import pandas as pd\n",
    "from transformers import TFAutoModelForSequenceClassification\n",
    "import os\n",
    "import sys\n",
    "from src.utils.common import load_tokenizer\n",
    "from src.exception import CustomException\n",
    "from src import logger"
   ]
  },
  {
   "cell_type": "code",
   "execution_count": 9,
   "metadata": {},
   "outputs": [],
   "source": [
    "## 5. Update the components\n",
    "\n",
    "class ModelEvaluation:\n",
    "    def __init__(self, config:ModelEvaluationConfig):\n",
    "        self.config=config\n",
    "\n",
    "\n",
    "    def evaluate_model(self):\n",
    "        '''\n",
    "        This function is responsible for testing model on unseen datasets\n",
    "        '''\n",
    "        try:\n",
    "            tokenizer = load_tokenizer(self.config.tokenizer_data_path)\n",
    "\n",
    "            model = TFAutoModelForSequenceClassification.from_pretrained(self.config.model_data_path)\n",
    "            \n",
    "            text = \"Pop star to start fashion company\"\n",
    "            logger.info(\"Text: {}\".format(text))\n",
    "            inputs = tokenizer(text, return_tensors=\"tf\")\n",
    "            output = model(inputs)\n",
    "            pred_prob = tf.nn.softmax(output.logits, axis=-1)\n",
    "            logger.info(\"{}\".format(pred_prob))\n",
    "            labels = ['entertainment', 'science/tech', 'business', 'health']\n",
    "            logger.info(\"Predicted Label: {}\".format(labels[np.argmax(pred_prob)]))\n",
    "\n",
    "            text = \"Revolutionary methods for discovering new materials\"\n",
    "            logger.info(\"Text: {}\".format(text))\n",
    "            inputs = tokenizer(text, return_tensors=\"tf\")\n",
    "            output = model(inputs)\n",
    "            pred_prob = tf.nn.softmax(output.logits, axis=-1)\n",
    "            logger.info(\"{}\".format(pred_prob))\n",
    "            labels = ['entertainment', 'science/tech', 'business', 'health']\n",
    "            logger.info(\"Predicted Label: {}\".format(labels[np.argmax(pred_prob)]))\n",
    "\n",
    "            text = \"Rebranded bank will target global growth\"\n",
    "            logger.info(\"Text: {}\".format(text))\n",
    "            inputs = tokenizer(text, return_tensors=\"tf\")\n",
    "            output = model(inputs)\n",
    "            pred_prob = tf.nn.softmax(output.logits, axis=-1)\n",
    "            logger.info(\"{}\".format(pred_prob))\n",
    "            labels = ['entertainment', 'science/tech', 'business', 'health']\n",
    "            logger.info(\"Predicted Label: {}\".format(labels[np.argmax(pred_prob)]))\n",
    "\n",
    "            text = \"A new sustainable vaccination against Ebola developed.\"\n",
    "            logger.info(\"Text: {}\".format(text))\n",
    "            inputs = tokenizer(text, return_tensors=\"tf\")\n",
    "            output = model(inputs)\n",
    "            pred_prob = tf.nn.softmax(output.logits, axis=-1)\n",
    "            logger.info(\"{}\".format(pred_prob))\n",
    "            labels = ['entertainment', 'science/tech', 'business', 'health']\n",
    "            logger.info(\"Predicted Label: {}\".format(labels[np.argmax(pred_prob)]))\n",
    "\n",
    "        except Exception as e:\n",
    "            raise CustomException(e,sys)"
   ]
  },
  {
   "cell_type": "code",
   "execution_count": 10,
   "metadata": {},
   "outputs": [
    {
     "name": "stdout",
     "output_type": "stream",
     "text": [
      "[2024-07-15 11:41:17,192: INFO: common: yaml file: config\\config.yaml loaded successfully]\n",
      "[2024-07-15 11:41:17,192: INFO: common: created directory at: output]\n",
      "[2024-07-15 11:41:17,192: INFO: common: created directory at: output/model_evaluation]\n"
     ]
    },
    {
     "name": "stderr",
     "output_type": "stream",
     "text": [
      "All model checkpoint layers were used when initializing TFDistilBertForSequenceClassification.\n",
      "\n",
      "All the layers of TFDistilBertForSequenceClassification were initialized from the model checkpoint at output/finetuned_model.\n",
      "If your task is similar to the task the model of the checkpoint was trained on, you can already use TFDistilBertForSequenceClassification for predictions without further training.\n"
     ]
    },
    {
     "name": "stdout",
     "output_type": "stream",
     "text": [
      "[2024-07-15 11:41:19,179: INFO: 1191191246: Text: Pop star to start fashion company]\n",
      "[2024-07-15 11:41:19,357: INFO: 1191191246: [[0.8871288  0.03015455 0.06201571 0.02070092]]]\n",
      "[2024-07-15 11:41:19,357: INFO: 1191191246: Labels: entertainment]\n",
      "[2024-07-15 11:41:19,357: INFO: 1191191246: Text: Revolutionary methods for discovering new materials]\n",
      "[2024-07-15 11:41:19,458: INFO: 1191191246: [[0.09031415 0.36010823 0.19604594 0.35353172]]]\n",
      "[2024-07-15 11:41:19,458: INFO: 1191191246: Labels: science/tech]\n",
      "[2024-07-15 11:41:19,458: INFO: 1191191246: Text: Rebranded bank will target global growth]\n",
      "[2024-07-15 11:41:19,557: INFO: 1191191246: [[0.00365722 0.01373794 0.97854096 0.00406382]]]\n",
      "[2024-07-15 11:41:19,557: INFO: 1191191246: Labels: business]\n",
      "[2024-07-15 11:41:19,557: INFO: 1191191246: Text: A new sustainable vaccination against Ebola developed.]\n",
      "[2024-07-15 11:41:19,674: INFO: 1191191246: [[0.00118971 0.00141545 0.00420589 0.993189  ]]]\n",
      "[2024-07-15 11:41:19,674: INFO: 1191191246: Labels: health]\n"
     ]
    }
   ],
   "source": [
    "## 6. Update the pipeline\n",
    "\n",
    "try:\n",
    "    config = ConfigurationManager()\n",
    "    model_evaluation_config = config.get_model_evaluation_config()\n",
    "    model_evaluation = ModelEvaluation(config=model_evaluation_config)\n",
    "    model_evaluation.evaluate_model()\n",
    "except Exception as e:\n",
    "  raise e"
   ]
  },
  {
   "cell_type": "code",
   "execution_count": null,
   "metadata": {},
   "outputs": [],
   "source": []
  },
  {
   "cell_type": "code",
   "execution_count": null,
   "metadata": {},
   "outputs": [],
   "source": []
  },
  {
   "cell_type": "code",
   "execution_count": null,
   "metadata": {},
   "outputs": [],
   "source": []
  }
 ],
 "metadata": {
  "kernelspec": {
   "display_name": "nlpenv",
   "language": "python",
   "name": "python3"
  },
  "language_info": {
   "codemirror_mode": {
    "name": "ipython",
    "version": 3
   },
   "file_extension": ".py",
   "mimetype": "text/x-python",
   "name": "python",
   "nbconvert_exporter": "python",
   "pygments_lexer": "ipython3",
   "version": "3.8.19"
  }
 },
 "nbformat": 4,
 "nbformat_minor": 2
}
