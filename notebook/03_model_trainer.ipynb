{
 "cells": [
  {
   "cell_type": "code",
   "execution_count": 1,
   "metadata": {},
   "outputs": [],
   "source": [
    "import os"
   ]
  },
  {
   "cell_type": "code",
   "execution_count": 2,
   "metadata": {},
   "outputs": [
    {
     "data": {
      "text/plain": [
       "'c:\\\\Users\\\\Vincent\\\\Documents\\\\GitHub\\\\Text-Classification\\\\notebook'"
      ]
     },
     "execution_count": 2,
     "metadata": {},
     "output_type": "execute_result"
    }
   ],
   "source": [
    "%pwd"
   ]
  },
  {
   "cell_type": "code",
   "execution_count": 3,
   "metadata": {},
   "outputs": [],
   "source": [
    "os.chdir(\"../\")"
   ]
  },
  {
   "cell_type": "code",
   "execution_count": 4,
   "metadata": {},
   "outputs": [
    {
     "data": {
      "text/plain": [
       "'c:\\\\Users\\\\Vincent\\\\Documents\\\\GitHub\\\\Text-Classification'"
      ]
     },
     "execution_count": 4,
     "metadata": {},
     "output_type": "execute_result"
    }
   ],
   "source": [
    "%pwd"
   ]
  },
  {
   "cell_type": "code",
   "execution_count": 5,
   "metadata": {},
   "outputs": [],
   "source": [
    "from dataclasses import dataclass\n",
    "from pathlib import Path\n",
    "\n",
    "@dataclass(frozen=True)\n",
    "class ModelTrainerConfig:\n",
    "    root_dir: Path\n",
    "    train_dataset_path: Path\n",
    "    val_dataset_path: Path\n",
    "    test_dataset_path: Path\n",
    "    model_data_path: Path\n"
   ]
  },
  {
   "cell_type": "code",
   "execution_count": 6,
   "metadata": {},
   "outputs": [],
   "source": [
    "from src.constants import *\n",
    "from src.utils.common import read_yaml, create_directories"
   ]
  },
  {
   "cell_type": "code",
   "execution_count": 7,
   "metadata": {},
   "outputs": [],
   "source": [
    "## Update the configuration manager in src config\n",
    "\n",
    "class ConfigurationManager:\n",
    "    def __init__(\n",
    "        self, \n",
    "        config_filepath = CONFIG_FILE_PATH):\n",
    "        \n",
    "        self.config = read_yaml(config_filepath)\n",
    "\n",
    "        create_directories([self.config.output_root])\n",
    "    \n",
    "    def get_model_trainer_config(self) -> ModelTrainerConfig:\n",
    "        config = self.config.model_trainer\n",
    "\n",
    "        create_directories([config.root_dir])\n",
    "\n",
    "        model_trainer_config = ModelTrainerConfig(\n",
    "            root_dir=config.root_dir,\n",
    "            train_dataset_path=config.train_dataset_path,\n",
    "            val_dataset_path=config.val_dataset_path,\n",
    "            test_dataset_path=config.test_dataset_path,\n",
    "            model_data_path=config.model_data_path\n",
    "        )\n",
    "\n",
    "        return model_trainer_config"
   ]
  },
  {
   "cell_type": "code",
   "execution_count": 8,
   "metadata": {},
   "outputs": [
    {
     "name": "stderr",
     "output_type": "stream",
     "text": [
      "c:\\Users\\Vincent\\anaconda3\\envs\\nlpenv\\lib\\site-packages\\tqdm\\auto.py:21: TqdmWarning: IProgress not found. Please update jupyter and ipywidgets. See https://ipywidgets.readthedocs.io/en/stable/user_install.html\n",
      "  from .autonotebook import tqdm as notebook_tqdm\n"
     ]
    }
   ],
   "source": [
    "import numpy as np\n",
    "import tensorflow as tf\n",
    "import tensorflow.keras as keras\n",
    "import pandas as pd\n",
    "from keras.utils import to_categorical\n",
    "from transformers import AutoTokenizer\n",
    "from transformers import TFAutoModelForSequenceClassification\n",
    "import os\n",
    "import sys\n",
    "from dataclasses import dataclass\n",
    "import pickle\n",
    "import warnings\n",
    "warnings.filterwarnings(\"ignore\")\n",
    "from src.exception import CustomException\n",
    "from src import logger"
   ]
  },
  {
   "cell_type": "code",
   "execution_count": 9,
   "metadata": {},
   "outputs": [],
   "source": [
    "## 5. Update the components\n",
    "\n",
    "class ModelTrainer:\n",
    "    def __init__(self, config:ModelTrainerConfig):\n",
    "        self.config=config\n",
    "\n",
    "    def initiate_model_trainer(self):\n",
    "        '''\n",
    "        This function is responsible for model training\n",
    "        \n",
    "        '''\n",
    "        try:\n",
    "            logger.info(f\"Loading the train, validation and test datasets\")\n",
    "            train_dataset = tf.data.Dataset.load(self.config.train_dataset_path)\n",
    "            val_dataset = tf.data.Dataset.load(self.config.val_dataset_path)\n",
    "            test_dataset = tf.data.Dataset.load(self.config.test_dataset_path)\n",
    "            \n",
    "\n",
    "            logger.info(f\"Finetuning model starts\")\n",
    "            model = TFAutoModelForSequenceClassification.from_pretrained(\n",
    "            \"distilbert-base-uncased\",num_labels=4)\n",
    "            \n",
    "            num_epochs = 1\n",
    "\n",
    "            # The number of training steps is the number of samples in the dataset, divided by the batch size then multiplied\n",
    "            # by the total number of epochs. Since our dataset is already batched, we can simply take the len.\n",
    "            num_train_steps = len(train_dataset) * num_epochs\n",
    "\n",
    "            lr_scheduler = keras.optimizers.schedules.PolynomialDecay(\n",
    "                initial_learning_rate=5e-5, end_learning_rate=0.0, decay_steps=num_train_steps\n",
    "            )\n",
    "            \n",
    "            loss = tf.keras.losses.SparseCategoricalCrossentropy(from_logits=True)\n",
    "            \n",
    "            model.compile(optimizer=\"adam\", loss=loss, metrics=[\"accuracy\"])\n",
    "            \n",
    "            callbacks = [keras.callbacks.LearningRateScheduler(lr_scheduler, verbose=1)]\n",
    "\n",
    "            model.fit(train_dataset, validation_data=val_dataset, epochs=num_epochs, callbacks=callbacks)\n",
    "\n",
    "            logger.info(f\"Evaluating finetuned model\")\n",
    "            model.evaluate(test_dataset)\n",
    "            \n",
    "            logger.info(f\"Saving finetuned model\")\n",
    "            model.save_pretrained(os.path.join(self.config.model_data_path))\n",
    "                    \n",
    "            return model\n",
    "    \n",
    "        except Exception as e:\n",
    "            raise CustomException(e,sys)"
   ]
  },
  {
   "cell_type": "code",
   "execution_count": 10,
   "metadata": {},
   "outputs": [
    {
     "name": "stdout",
     "output_type": "stream",
     "text": [
      "[2024-07-15 19:38:07,607: INFO: common: yaml file: config\\config.yaml loaded successfully]\n",
      "[2024-07-15 19:38:07,607: INFO: common: created directory at: output]\n",
      "[2024-07-15 19:38:07,607: INFO: common: created directory at: output/model_trainer]\n",
      "[2024-07-15 19:38:07,622: INFO: 2724184690: Loading the train, validation and test datasets]\n",
      "[2024-07-15 19:38:07,712: INFO: 2724184690: Finetuning model starts]\n"
     ]
    },
    {
     "name": "stderr",
     "output_type": "stream",
     "text": [
      "Some weights of the PyTorch model were not used when initializing the TF 2.0 model TFDistilBertForSequenceClassification: ['vocab_layer_norm.weight', 'vocab_transform.bias', 'vocab_projector.bias', 'vocab_layer_norm.bias', 'vocab_transform.weight']\n",
      "- This IS expected if you are initializing TFDistilBertForSequenceClassification from a PyTorch model trained on another task or with another architecture (e.g. initializing a TFBertForSequenceClassification model from a BertForPreTraining model).\n",
      "- This IS NOT expected if you are initializing TFDistilBertForSequenceClassification from a PyTorch model that you expect to be exactly identical (e.g. initializing a TFBertForSequenceClassification model from a BertForSequenceClassification model).\n",
      "Some weights or buffers of the TF 2.0 model TFDistilBertForSequenceClassification were not initialized from the PyTorch model and are newly initialized: ['pre_classifier.weight', 'pre_classifier.bias', 'classifier.weight', 'classifier.bias']\n",
      "You should probably TRAIN this model on a down-stream task to be able to use it for predictions and inference.\n"
     ]
    },
    {
     "name": "stdout",
     "output_type": "stream",
     "text": [
      "\n",
      "Epoch 1: LearningRateScheduler setting learning rate to 4.999999873689376e-05.\n",
      "[2024-07-15 19:38:11,057: WARNING: ag_logging: AutoGraph could not transform <function infer_framework at 0x0000023EE0129940> and will run it as-is.\n",
      "Cause: for/else statement not yet supported\n",
      "To silence this warning, decorate the function with @tf.autograph.experimental.do_not_convert]\n",
      "WARNING: AutoGraph could not transform <function infer_framework at 0x0000023EE0129940> and will run it as-is.\n",
      "Cause: for/else statement not yet supported\n",
      "To silence this warning, decorate the function with @tf.autograph.experimental.do_not_convert\n",
      "900/900 [==============================] - 1117s 1s/step - loss: 0.3999 - accuracy: 0.8637 - val_loss: 0.2973 - val_accuracy: 0.8969 - lr: 5.0000e-05\n",
      "[2024-07-15 19:56:47,373: INFO: 2724184690: Evaluating finetuned model]\n",
      "250/250 [==============================] - 61s 229ms/step - loss: 0.3129 - accuracy: 0.8928\n",
      "[2024-07-15 19:57:48,720: INFO: 2724184690: Saving finetuned model]\n"
     ]
    }
   ],
   "source": [
    "## 6. Update the pipeline\n",
    "\n",
    "try:\n",
    "    config = ConfigurationManager()\n",
    "    model_trainer_config = config.get_model_trainer_config()\n",
    "    model_trainer = ModelTrainer(config=model_trainer_config)\n",
    "    model_trainer.initiate_model_trainer()\n",
    "except Exception as e:\n",
    "  raise e"
   ]
  },
  {
   "cell_type": "code",
   "execution_count": null,
   "metadata": {},
   "outputs": [],
   "source": []
  },
  {
   "cell_type": "code",
   "execution_count": null,
   "metadata": {},
   "outputs": [],
   "source": []
  },
  {
   "cell_type": "code",
   "execution_count": null,
   "metadata": {},
   "outputs": [],
   "source": []
  },
  {
   "cell_type": "code",
   "execution_count": null,
   "metadata": {},
   "outputs": [],
   "source": []
  }
 ],
 "metadata": {
  "kernelspec": {
   "display_name": "nlpenv",
   "language": "python",
   "name": "python3"
  },
  "language_info": {
   "codemirror_mode": {
    "name": "ipython",
    "version": 3
   },
   "file_extension": ".py",
   "mimetype": "text/x-python",
   "name": "python",
   "nbconvert_exporter": "python",
   "pygments_lexer": "ipython3",
   "version": "3.8.19"
  }
 },
 "nbformat": 4,
 "nbformat_minor": 2
}
