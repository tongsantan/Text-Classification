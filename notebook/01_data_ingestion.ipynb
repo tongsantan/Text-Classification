{
 "cells": [
  {
   "cell_type": "code",
   "execution_count": 1,
   "metadata": {},
   "outputs": [],
   "source": [
    "import os"
   ]
  },
  {
   "cell_type": "code",
   "execution_count": 2,
   "metadata": {},
   "outputs": [
    {
     "data": {
      "text/plain": [
       "'c:\\\\Users\\\\Vincent\\\\Documents\\\\GitHub\\\\Text-Classification\\\\notebook'"
      ]
     },
     "execution_count": 2,
     "metadata": {},
     "output_type": "execute_result"
    }
   ],
   "source": [
    "%pwd"
   ]
  },
  {
   "cell_type": "code",
   "execution_count": 3,
   "metadata": {},
   "outputs": [],
   "source": [
    "os.chdir(\"../\")"
   ]
  },
  {
   "cell_type": "code",
   "execution_count": 4,
   "metadata": {},
   "outputs": [
    {
     "data": {
      "text/plain": [
       "'c:\\\\Users\\\\Vincent\\\\Documents\\\\GitHub\\\\Text-Classification'"
      ]
     },
     "execution_count": 4,
     "metadata": {},
     "output_type": "execute_result"
    }
   ],
   "source": [
    "%pwd"
   ]
  },
  {
   "cell_type": "code",
   "execution_count": 5,
   "metadata": {},
   "outputs": [],
   "source": [
    "## 3. Update the entity\n",
    "\n",
    "from dataclasses import dataclass\n",
    "from pathlib import Path\n",
    "\n",
    "@dataclass(frozen=True)\n",
    "class DataIngestionConfig:\n",
    "    root_dir: Path\n",
    "    input_data_path: Path\n",
    "    processed_data_path: Path\n",
    "    X_train_data_path: Path\n",
    "    X_test_data_path: Path\n",
    "    y_train_data_path: Path \n",
    "    y_test_data_path: Path\n",
    "    X_val_data_path: Path\n",
    "    y_val_data_path: Path "
   ]
  },
  {
   "cell_type": "code",
   "execution_count": 6,
   "metadata": {},
   "outputs": [],
   "source": [
    "## 3. Update the entity\n",
    "\n",
    "from src.constants import *\n",
    "from src.utils.common import read_yaml, create_directories"
   ]
  },
  {
   "cell_type": "code",
   "execution_count": 7,
   "metadata": {},
   "outputs": [],
   "source": [
    "## 4. Update the configuration manager in src config\n",
    "\n",
    "class ConfigurationManager:\n",
    "    def __init__(\n",
    "        self, \n",
    "        config_filepath = CONFIG_FILE_PATH):\n",
    "        \n",
    "        self.config = read_yaml(config_filepath)\n",
    "\n",
    "        create_directories([self.config.output_root])\n",
    "\n",
    "    def get_data_ingestion_config(self) -> DataIngestionConfig:\n",
    "        config = self.config.data_ingestion\n",
    "\n",
    "        create_directories([config.root_dir])\n",
    "\n",
    "        data_ingestion_config = DataIngestionConfig(\n",
    "            root_dir=config.root_dir,\n",
    "            input_data_path=config.input_data_path,\n",
    "            processed_data_path=config.processed_data_path,\n",
    "            X_train_data_path=config.X_train_data_path,\n",
    "            X_test_data_path=config.X_test_data_path,\n",
    "            y_train_data_path=config.y_train_data_path,\n",
    "            y_test_data_path=config.y_test_data_path,\n",
    "            X_val_data_path=config.X_val_data_path,\n",
    "            y_val_data_path=config.y_val_data_path\n",
    "        )\n",
    "\n",
    "        return data_ingestion_config"
   ]
  },
  {
   "cell_type": "code",
   "execution_count": 8,
   "metadata": {},
   "outputs": [],
   "source": [
    "## 5. Update the components\n",
    "\n",
    "import os\n",
    "import sys\n",
    "from src.exception import CustomException\n",
    "from src import logger\n",
    "import pandas as pd\n",
    "from dataclasses import dataclass\n",
    "from sklearn.model_selection import train_test_split\n",
    "from src.utils.common import encoded\n",
    "import numpy as np"
   ]
  },
  {
   "cell_type": "code",
   "execution_count": 9,
   "metadata": {},
   "outputs": [],
   "source": [
    "## 5. Update the components\n",
    "\n",
    "class DataIngestion:\n",
    "    def __init__(self, config: DataIngestionConfig):\n",
    "        self.config = config\n",
    "\n",
    "    def initiate_data_ingestion(self):\n",
    "        '''\n",
    "        This function is responsible for data ingestion\n",
    "        \n",
    "        '''\n",
    "        logger.info(\"Data Ingestion\") \n",
    "        \n",
    "        try:\n",
    "            logger.info(\"Reading the data\")\n",
    "            df=pd.read_csv(self.config.input_data_path)\n",
    "            \n",
    "            df = df[['TITLE','CATEGORY']]\n",
    "            \n",
    "            logger.info(\"Sampling 5000 rows for each category at random\") \n",
    "            e = df[df['CATEGORY'] == 'e'].sample(n=5000)\n",
    "            b = df[df['CATEGORY'] == 'b'].sample(n=5000)\n",
    "            t = df[df['CATEGORY'] == 't'].sample(n=5000)\n",
    "            m = df[df['CATEGORY'] == 'm'].sample(n=5000)\n",
    "\n",
    "            df_selected = pd.concat([e,b,t,m], ignore_index=True)\n",
    "            df_selected = df_selected.reindex(np.random.permutation(df_selected.index)).reset_index(drop=True)\n",
    "            df_selected['TARGET'] = df_selected.apply(lambda x: encoded(x['CATEGORY']), axis=1)\n",
    "            os.makedirs(os.path.dirname(self.config.processed_data_path),exist_ok=True)\n",
    "            df_selected.to_csv(self.config.processed_data_path,index=False,header=True)   \n",
    "            \n",
    "            logger.info(\"Splitting the data into X and y\")\n",
    "            seed = 18\n",
    "            X = df_selected['TITLE']\n",
    "            y = df_selected['TARGET']\n",
    "            \n",
    "            logger.info(\"Train test split initiated to create Training, Validation and Test data\")\n",
    "            X_train, X_test, y_train, y_test = train_test_split(X, y, test_size=0.20, random_state=seed)\n",
    "            X_train, X_val, y_train, y_val = train_test_split(X_train, y_train, test_size=0.10, random_state=seed)\n",
    "            \n",
    "            logger.info(\"Saving the data\")\n",
    "            os.makedirs(os.path.dirname(self.config.X_train_data_path),exist_ok=True)\n",
    "            X_train.to_csv(self.config.X_train_data_path,index=False,header=True)\n",
    "            X_test.to_csv(self.config.X_test_data_path,index=False,header=True)\n",
    "            y_train.to_csv(self.config.y_train_data_path,index=False,header=True)\n",
    "            y_test.to_csv(self.config.y_test_data_path,index=False,header=True)\n",
    "            X_val.to_csv(self.config.X_val_data_path,index=False,header=True)\n",
    "            y_val.to_csv(self.config.y_val_data_path,index=False,header=True)\n",
    "\n",
    "            logger.info(\"Ingestion of the data is completed\")\n",
    "            \n",
    "            return(\n",
    "                    self.config.X_train_data_path,\n",
    "                    self.config.X_test_data_path,\n",
    "                    self.config.y_train_data_path,\n",
    "                    self.config.y_test_data_path,\n",
    "                    self.config.X_val_data_path,\n",
    "                    self.config.y_val_data_path\n",
    "                )\n",
    "        \n",
    "        except Exception as e:\n",
    "            raise CustomException(e,sys)    "
   ]
  },
  {
   "cell_type": "code",
   "execution_count": 10,
   "metadata": {},
   "outputs": [
    {
     "name": "stdout",
     "output_type": "stream",
     "text": [
      "[2024-07-15 19:37:03,026: INFO: common: yaml file: config\\config.yaml loaded successfully]\n",
      "[2024-07-15 19:37:03,027: INFO: common: created directory at: output]\n",
      "[2024-07-15 19:37:03,028: INFO: common: created directory at: output/data_ingestion]\n",
      "[2024-07-15 19:37:03,029: INFO: 3567442147: Data Ingestion]\n",
      "[2024-07-15 19:37:03,030: INFO: 3567442147: Reading the data]\n",
      "[2024-07-15 19:37:04,442: INFO: 3567442147: Sampling 5000 rows for each category at random]\n",
      "[2024-07-15 19:37:04,811: INFO: 3567442147: Splitting the data into X and y]\n",
      "[2024-07-15 19:37:04,811: INFO: 3567442147: Train test split initiated to create Training, Validation and Test data]\n",
      "[2024-07-15 19:37:04,827: INFO: 3567442147: Saving the data]\n",
      "[2024-07-15 19:37:04,878: INFO: 3567442147: Ingestion of the data is completed]\n"
     ]
    }
   ],
   "source": [
    "## 6. Update the pipeline\n",
    "\n",
    "try:\n",
    "    config = ConfigurationManager()\n",
    "    data_ingestion_config = config.get_data_ingestion_config()\n",
    "    data_ingestion = DataIngestion(config=data_ingestion_config)\n",
    "    data_ingestion.initiate_data_ingestion()\n",
    "except Exception as e:\n",
    "  raise e"
   ]
  },
  {
   "cell_type": "code",
   "execution_count": null,
   "metadata": {},
   "outputs": [],
   "source": []
  },
  {
   "cell_type": "code",
   "execution_count": null,
   "metadata": {},
   "outputs": [],
   "source": []
  },
  {
   "cell_type": "code",
   "execution_count": null,
   "metadata": {},
   "outputs": [],
   "source": []
  },
  {
   "cell_type": "code",
   "execution_count": null,
   "metadata": {},
   "outputs": [],
   "source": []
  },
  {
   "cell_type": "code",
   "execution_count": null,
   "metadata": {},
   "outputs": [],
   "source": []
  },
  {
   "cell_type": "code",
   "execution_count": null,
   "metadata": {},
   "outputs": [],
   "source": []
  },
  {
   "cell_type": "code",
   "execution_count": null,
   "metadata": {},
   "outputs": [],
   "source": []
  }
 ],
 "metadata": {
  "kernelspec": {
   "display_name": "nlpenv",
   "language": "python",
   "name": "python3"
  },
  "language_info": {
   "codemirror_mode": {
    "name": "ipython",
    "version": 3
   },
   "file_extension": ".py",
   "mimetype": "text/x-python",
   "name": "python",
   "nbconvert_exporter": "python",
   "pygments_lexer": "ipython3",
   "version": "3.8.19"
  }
 },
 "nbformat": 4,
 "nbformat_minor": 2
}
