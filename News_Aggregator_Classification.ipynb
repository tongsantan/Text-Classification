{
 "cells": [
  {
   "attachments": {},
   "cell_type": "markdown",
   "id": "b0b09f83",
   "metadata": {},
   "source": [
    "## News_Aggregator_Classification"
   ]
  },
  {
   "attachments": {},
   "cell_type": "markdown",
   "id": "8586cd9b",
   "metadata": {},
   "source": [
    "## Objective"
   ]
  },
  {
   "attachments": {},
   "cell_type": "markdown",
   "id": "fce2ddee",
   "metadata": {},
   "source": [
    "To predict the category (business, entertainment, science and technology or health) of a news article given its headline"
   ]
  },
  {
   "attachments": {},
   "cell_type": "markdown",
   "id": "4329d3eb",
   "metadata": {},
   "source": [
    "## Datasets (Source & Acknowledgements)"
   ]
  },
  {
   "attachments": {},
   "cell_type": "markdown",
   "id": "44422a48",
   "metadata": {},
   "source": [
    "The columns included in this dataset are: </br>\n",
    "\n",
    "ID : the numeric ID of the article </br>\n",
    "\n",
    "TITLE : the headline of the article </br>\n",
    "\n",
    "URL : the URL of the article </br>\n",
    "\n",
    "PUBLISHER : the publisher of the article </br>\n",
    "\n",
    "CATEGORY : the category of the news item; one of: </br>\n",
    "\n",
    "-- b : business </br>\n",
    "\n",
    "-- t : science and technology </br>\n",
    "\n",
    "-- e : entertainment </br>\n",
    "\n",
    "-- m : health </br>\n",
    "\n",
    "STORY : alphanumeric ID of the news story that the article discusses </br>\n",
    "\n",
    "HOSTNAME : hostname where the article was posted </br>\n",
    "\n",
    "TIMESTAMP : approximate timestamp of the article's publication"
   ]
  },
  {
   "attachments": {},
   "cell_type": "markdown",
   "id": "bf42f8e4",
   "metadata": {},
   "source": [
    "1. Publication Dataset: \n",
    "Lichman, M. (2013). UCI Machine Learning Repository https://archive.ics.uci.edu/ml/datasets/News+Aggregator. </br> \n",
    "Irvine, CA: University of California, School of Information and Computer Science.\n",
    "\n",
    "2. Kaggle Dataset: \n",
    "https://www.kaggle.com/datasets/uciml/news-aggregator-dataset"
   ]
  },
  {
   "cell_type": "code",
   "execution_count": 1,
   "id": "e4214bd0",
   "metadata": {},
   "outputs": [],
   "source": [
    "# Import libraries\n",
    "\n",
    "import numpy as np\n",
    "import tensorflow as tf\n",
    "import pandas as pd\n",
    "from sklearn.model_selection import train_test_split\n",
    "import warnings\n",
    "warnings.filterwarnings(\"ignore\")\n",
    "from sklearn.preprocessing import LabelEncoder\n",
    "from keras.utils.np_utils import to_categorical\n",
    "from transformers import AutoTokenizer\n",
    "from transformers import TFAutoModelForSequenceClassification\n",
    "from tensorflow.keras.optimizers.schedules import PolynomialDecay\n",
    "from tensorflow.keras.optimizers import Adam\n",
    "from tensorflow.keras.losses import SparseCategoricalCrossentropy"
   ]
  },
  {
   "attachments": {},
   "cell_type": "markdown",
   "id": "a916e854",
   "metadata": {},
   "source": [
    "## Read in the dataset"
   ]
  },
  {
   "cell_type": "code",
   "execution_count": 2,
   "id": "71a8de18",
   "metadata": {},
   "outputs": [
    {
     "data": {
      "text/html": [
       "<div>\n",
       "<style scoped>\n",
       "    .dataframe tbody tr th:only-of-type {\n",
       "        vertical-align: middle;\n",
       "    }\n",
       "\n",
       "    .dataframe tbody tr th {\n",
       "        vertical-align: top;\n",
       "    }\n",
       "\n",
       "    .dataframe thead th {\n",
       "        text-align: right;\n",
       "    }\n",
       "</style>\n",
       "<table border=\"1\" class=\"dataframe\">\n",
       "  <thead>\n",
       "    <tr style=\"text-align: right;\">\n",
       "      <th></th>\n",
       "      <th>ID</th>\n",
       "      <th>TITLE</th>\n",
       "      <th>URL</th>\n",
       "      <th>PUBLISHER</th>\n",
       "      <th>CATEGORY</th>\n",
       "      <th>STORY</th>\n",
       "      <th>HOSTNAME</th>\n",
       "      <th>TIMESTAMP</th>\n",
       "    </tr>\n",
       "  </thead>\n",
       "  <tbody>\n",
       "    <tr>\n",
       "      <th>0</th>\n",
       "      <td>1</td>\n",
       "      <td>Fed official says weak data caused by weather,...</td>\n",
       "      <td>http://www.latimes.com/business/money/la-fi-mo...</td>\n",
       "      <td>Los Angeles Times</td>\n",
       "      <td>b</td>\n",
       "      <td>ddUyU0VZz0BRneMioxUPQVP6sIxvM</td>\n",
       "      <td>www.latimes.com</td>\n",
       "      <td>1394470370698</td>\n",
       "    </tr>\n",
       "    <tr>\n",
       "      <th>1</th>\n",
       "      <td>2</td>\n",
       "      <td>Fed's Charles Plosser sees high bar for change...</td>\n",
       "      <td>http://www.livemint.com/Politics/H2EvwJSK2VE6O...</td>\n",
       "      <td>Livemint</td>\n",
       "      <td>b</td>\n",
       "      <td>ddUyU0VZz0BRneMioxUPQVP6sIxvM</td>\n",
       "      <td>www.livemint.com</td>\n",
       "      <td>1394470371207</td>\n",
       "    </tr>\n",
       "    <tr>\n",
       "      <th>2</th>\n",
       "      <td>3</td>\n",
       "      <td>US open: Stocks fall after Fed official hints ...</td>\n",
       "      <td>http://www.ifamagazine.com/news/us-open-stocks...</td>\n",
       "      <td>IFA Magazine</td>\n",
       "      <td>b</td>\n",
       "      <td>ddUyU0VZz0BRneMioxUPQVP6sIxvM</td>\n",
       "      <td>www.ifamagazine.com</td>\n",
       "      <td>1394470371550</td>\n",
       "    </tr>\n",
       "    <tr>\n",
       "      <th>3</th>\n",
       "      <td>4</td>\n",
       "      <td>Fed risks falling 'behind the curve', Charles ...</td>\n",
       "      <td>http://www.ifamagazine.com/news/fed-risks-fall...</td>\n",
       "      <td>IFA Magazine</td>\n",
       "      <td>b</td>\n",
       "      <td>ddUyU0VZz0BRneMioxUPQVP6sIxvM</td>\n",
       "      <td>www.ifamagazine.com</td>\n",
       "      <td>1394470371793</td>\n",
       "    </tr>\n",
       "    <tr>\n",
       "      <th>4</th>\n",
       "      <td>5</td>\n",
       "      <td>Fed's Plosser: Nasty Weather Has Curbed Job Gr...</td>\n",
       "      <td>http://www.moneynews.com/Economy/federal-reser...</td>\n",
       "      <td>Moneynews</td>\n",
       "      <td>b</td>\n",
       "      <td>ddUyU0VZz0BRneMioxUPQVP6sIxvM</td>\n",
       "      <td>www.moneynews.com</td>\n",
       "      <td>1394470372027</td>\n",
       "    </tr>\n",
       "    <tr>\n",
       "      <th>...</th>\n",
       "      <td>...</td>\n",
       "      <td>...</td>\n",
       "      <td>...</td>\n",
       "      <td>...</td>\n",
       "      <td>...</td>\n",
       "      <td>...</td>\n",
       "      <td>...</td>\n",
       "      <td>...</td>\n",
       "    </tr>\n",
       "    <tr>\n",
       "      <th>422414</th>\n",
       "      <td>422933</td>\n",
       "      <td>Surgeons to remove 4-year-old's rib to rebuild...</td>\n",
       "      <td>http://www.cbs3springfield.com/story/26378648/...</td>\n",
       "      <td>WSHM-TV</td>\n",
       "      <td>m</td>\n",
       "      <td>dpcLMoJD69UYMXMxaoEFnWql9YjQM</td>\n",
       "      <td>www.cbs3springfield.com</td>\n",
       "      <td>1409229190251</td>\n",
       "    </tr>\n",
       "    <tr>\n",
       "      <th>422415</th>\n",
       "      <td>422934</td>\n",
       "      <td>Boy to have surgery on esophagus after battery...</td>\n",
       "      <td>http://www.wlwt.com/news/boy-to-have-surgery-o...</td>\n",
       "      <td>WLWT Cincinnati</td>\n",
       "      <td>m</td>\n",
       "      <td>dpcLMoJD69UYMXMxaoEFnWql9YjQM</td>\n",
       "      <td>www.wlwt.com</td>\n",
       "      <td>1409229190508</td>\n",
       "    </tr>\n",
       "    <tr>\n",
       "      <th>422416</th>\n",
       "      <td>422935</td>\n",
       "      <td>Child who swallowed battery to have reconstruc...</td>\n",
       "      <td>http://www.newsnet5.com/news/local-news/child-...</td>\n",
       "      <td>NewsNet5.com</td>\n",
       "      <td>m</td>\n",
       "      <td>dpcLMoJD69UYMXMxaoEFnWql9YjQM</td>\n",
       "      <td>www.newsnet5.com</td>\n",
       "      <td>1409229190771</td>\n",
       "    </tr>\n",
       "    <tr>\n",
       "      <th>422417</th>\n",
       "      <td>422936</td>\n",
       "      <td>Phoenix boy undergoes surgery to repair throat...</td>\n",
       "      <td>http://www.wfsb.com/story/26368078/phoenix-boy...</td>\n",
       "      <td>WFSB</td>\n",
       "      <td>m</td>\n",
       "      <td>dpcLMoJD69UYMXMxaoEFnWql9YjQM</td>\n",
       "      <td>www.wfsb.com</td>\n",
       "      <td>1409229191071</td>\n",
       "    </tr>\n",
       "    <tr>\n",
       "      <th>422418</th>\n",
       "      <td>422937</td>\n",
       "      <td>Phoenix boy undergoes surgery to repair throat...</td>\n",
       "      <td>http://www.cbs3springfield.com/story/26368078/...</td>\n",
       "      <td>WSHM-TV</td>\n",
       "      <td>m</td>\n",
       "      <td>dpcLMoJD69UYMXMxaoEFnWql9YjQM</td>\n",
       "      <td>www.cbs3springfield.com</td>\n",
       "      <td>1409229191565</td>\n",
       "    </tr>\n",
       "  </tbody>\n",
       "</table>\n",
       "<p>422419 rows × 8 columns</p>\n",
       "</div>"
      ],
      "text/plain": [
       "            ID                                              TITLE  \\\n",
       "0            1  Fed official says weak data caused by weather,...   \n",
       "1            2  Fed's Charles Plosser sees high bar for change...   \n",
       "2            3  US open: Stocks fall after Fed official hints ...   \n",
       "3            4  Fed risks falling 'behind the curve', Charles ...   \n",
       "4            5  Fed's Plosser: Nasty Weather Has Curbed Job Gr...   \n",
       "...        ...                                                ...   \n",
       "422414  422933  Surgeons to remove 4-year-old's rib to rebuild...   \n",
       "422415  422934  Boy to have surgery on esophagus after battery...   \n",
       "422416  422935  Child who swallowed battery to have reconstruc...   \n",
       "422417  422936  Phoenix boy undergoes surgery to repair throat...   \n",
       "422418  422937  Phoenix boy undergoes surgery to repair throat...   \n",
       "\n",
       "                                                      URL          PUBLISHER  \\\n",
       "0       http://www.latimes.com/business/money/la-fi-mo...  Los Angeles Times   \n",
       "1       http://www.livemint.com/Politics/H2EvwJSK2VE6O...           Livemint   \n",
       "2       http://www.ifamagazine.com/news/us-open-stocks...       IFA Magazine   \n",
       "3       http://www.ifamagazine.com/news/fed-risks-fall...       IFA Magazine   \n",
       "4       http://www.moneynews.com/Economy/federal-reser...          Moneynews   \n",
       "...                                                   ...                ...   \n",
       "422414  http://www.cbs3springfield.com/story/26378648/...            WSHM-TV   \n",
       "422415  http://www.wlwt.com/news/boy-to-have-surgery-o...    WLWT Cincinnati   \n",
       "422416  http://www.newsnet5.com/news/local-news/child-...       NewsNet5.com   \n",
       "422417  http://www.wfsb.com/story/26368078/phoenix-boy...               WFSB   \n",
       "422418  http://www.cbs3springfield.com/story/26368078/...            WSHM-TV   \n",
       "\n",
       "       CATEGORY                          STORY                 HOSTNAME  \\\n",
       "0             b  ddUyU0VZz0BRneMioxUPQVP6sIxvM          www.latimes.com   \n",
       "1             b  ddUyU0VZz0BRneMioxUPQVP6sIxvM         www.livemint.com   \n",
       "2             b  ddUyU0VZz0BRneMioxUPQVP6sIxvM      www.ifamagazine.com   \n",
       "3             b  ddUyU0VZz0BRneMioxUPQVP6sIxvM      www.ifamagazine.com   \n",
       "4             b  ddUyU0VZz0BRneMioxUPQVP6sIxvM        www.moneynews.com   \n",
       "...         ...                            ...                      ...   \n",
       "422414        m  dpcLMoJD69UYMXMxaoEFnWql9YjQM  www.cbs3springfield.com   \n",
       "422415        m  dpcLMoJD69UYMXMxaoEFnWql9YjQM             www.wlwt.com   \n",
       "422416        m  dpcLMoJD69UYMXMxaoEFnWql9YjQM         www.newsnet5.com   \n",
       "422417        m  dpcLMoJD69UYMXMxaoEFnWql9YjQM             www.wfsb.com   \n",
       "422418        m  dpcLMoJD69UYMXMxaoEFnWql9YjQM  www.cbs3springfield.com   \n",
       "\n",
       "            TIMESTAMP  \n",
       "0       1394470370698  \n",
       "1       1394470371207  \n",
       "2       1394470371550  \n",
       "3       1394470371793  \n",
       "4       1394470372027  \n",
       "...               ...  \n",
       "422414  1409229190251  \n",
       "422415  1409229190508  \n",
       "422416  1409229190771  \n",
       "422417  1409229191071  \n",
       "422418  1409229191565  \n",
       "\n",
       "[422419 rows x 8 columns]"
      ]
     },
     "execution_count": 2,
     "metadata": {},
     "output_type": "execute_result"
    }
   ],
   "source": [
    "df = pd.read_csv('uci-news-aggregator.csv')\n",
    "df"
   ]
  },
  {
   "cell_type": "code",
   "execution_count": 3,
   "id": "71ebe9ec",
   "metadata": {},
   "outputs": [
    {
     "data": {
      "text/html": [
       "<div>\n",
       "<style scoped>\n",
       "    .dataframe tbody tr th:only-of-type {\n",
       "        vertical-align: middle;\n",
       "    }\n",
       "\n",
       "    .dataframe tbody tr th {\n",
       "        vertical-align: top;\n",
       "    }\n",
       "\n",
       "    .dataframe thead th {\n",
       "        text-align: right;\n",
       "    }\n",
       "</style>\n",
       "<table border=\"1\" class=\"dataframe\">\n",
       "  <thead>\n",
       "    <tr style=\"text-align: right;\">\n",
       "      <th></th>\n",
       "      <th>TITLE</th>\n",
       "      <th>CATEGORY</th>\n",
       "    </tr>\n",
       "  </thead>\n",
       "  <tbody>\n",
       "    <tr>\n",
       "      <th>0</th>\n",
       "      <td>Fed official says weak data caused by weather,...</td>\n",
       "      <td>b</td>\n",
       "    </tr>\n",
       "    <tr>\n",
       "      <th>1</th>\n",
       "      <td>Fed's Charles Plosser sees high bar for change...</td>\n",
       "      <td>b</td>\n",
       "    </tr>\n",
       "    <tr>\n",
       "      <th>2</th>\n",
       "      <td>US open: Stocks fall after Fed official hints ...</td>\n",
       "      <td>b</td>\n",
       "    </tr>\n",
       "    <tr>\n",
       "      <th>3</th>\n",
       "      <td>Fed risks falling 'behind the curve', Charles ...</td>\n",
       "      <td>b</td>\n",
       "    </tr>\n",
       "    <tr>\n",
       "      <th>4</th>\n",
       "      <td>Fed's Plosser: Nasty Weather Has Curbed Job Gr...</td>\n",
       "      <td>b</td>\n",
       "    </tr>\n",
       "    <tr>\n",
       "      <th>...</th>\n",
       "      <td>...</td>\n",
       "      <td>...</td>\n",
       "    </tr>\n",
       "    <tr>\n",
       "      <th>422414</th>\n",
       "      <td>Surgeons to remove 4-year-old's rib to rebuild...</td>\n",
       "      <td>m</td>\n",
       "    </tr>\n",
       "    <tr>\n",
       "      <th>422415</th>\n",
       "      <td>Boy to have surgery on esophagus after battery...</td>\n",
       "      <td>m</td>\n",
       "    </tr>\n",
       "    <tr>\n",
       "      <th>422416</th>\n",
       "      <td>Child who swallowed battery to have reconstruc...</td>\n",
       "      <td>m</td>\n",
       "    </tr>\n",
       "    <tr>\n",
       "      <th>422417</th>\n",
       "      <td>Phoenix boy undergoes surgery to repair throat...</td>\n",
       "      <td>m</td>\n",
       "    </tr>\n",
       "    <tr>\n",
       "      <th>422418</th>\n",
       "      <td>Phoenix boy undergoes surgery to repair throat...</td>\n",
       "      <td>m</td>\n",
       "    </tr>\n",
       "  </tbody>\n",
       "</table>\n",
       "<p>422419 rows × 2 columns</p>\n",
       "</div>"
      ],
      "text/plain": [
       "                                                    TITLE CATEGORY\n",
       "0       Fed official says weak data caused by weather,...        b\n",
       "1       Fed's Charles Plosser sees high bar for change...        b\n",
       "2       US open: Stocks fall after Fed official hints ...        b\n",
       "3       Fed risks falling 'behind the curve', Charles ...        b\n",
       "4       Fed's Plosser: Nasty Weather Has Curbed Job Gr...        b\n",
       "...                                                   ...      ...\n",
       "422414  Surgeons to remove 4-year-old's rib to rebuild...        m\n",
       "422415  Boy to have surgery on esophagus after battery...        m\n",
       "422416  Child who swallowed battery to have reconstruc...        m\n",
       "422417  Phoenix boy undergoes surgery to repair throat...        m\n",
       "422418  Phoenix boy undergoes surgery to repair throat...        m\n",
       "\n",
       "[422419 rows x 2 columns]"
      ]
     },
     "execution_count": 3,
     "metadata": {},
     "output_type": "execute_result"
    }
   ],
   "source": [
    "df = df[['TITLE','CATEGORY']]\n",
    "df"
   ]
  },
  {
   "cell_type": "code",
   "execution_count": 4,
   "id": "b0f3d906",
   "metadata": {},
   "outputs": [
    {
     "data": {
      "text/plain": [
       "e    152469\n",
       "b    115967\n",
       "t    108344\n",
       "m     45639\n",
       "Name: CATEGORY, dtype: int64"
      ]
     },
     "execution_count": 4,
     "metadata": {},
     "output_type": "execute_result"
    }
   ],
   "source": [
    "df['CATEGORY'].value_counts()"
   ]
  },
  {
   "attachments": {},
   "cell_type": "markdown",
   "id": "d2e4caf7",
   "metadata": {},
   "source": [
    "### Sample 5000 rows for each category at random"
   ]
  },
  {
   "cell_type": "code",
   "execution_count": 5,
   "id": "c7263768",
   "metadata": {},
   "outputs": [
    {
     "data": {
      "text/html": [
       "<div>\n",
       "<style scoped>\n",
       "    .dataframe tbody tr th:only-of-type {\n",
       "        vertical-align: middle;\n",
       "    }\n",
       "\n",
       "    .dataframe tbody tr th {\n",
       "        vertical-align: top;\n",
       "    }\n",
       "\n",
       "    .dataframe thead th {\n",
       "        text-align: right;\n",
       "    }\n",
       "</style>\n",
       "<table border=\"1\" class=\"dataframe\">\n",
       "  <thead>\n",
       "    <tr style=\"text-align: right;\">\n",
       "      <th></th>\n",
       "      <th>TITLE</th>\n",
       "      <th>CATEGORY</th>\n",
       "    </tr>\n",
       "  </thead>\n",
       "  <tbody>\n",
       "    <tr>\n",
       "      <th>0</th>\n",
       "      <td>20 deadliest states for workers</td>\n",
       "      <td>m</td>\n",
       "    </tr>\n",
       "    <tr>\n",
       "      <th>1</th>\n",
       "      <td>49ers QB Colin Kaepernick defends reputation a...</td>\n",
       "      <td>b</td>\n",
       "    </tr>\n",
       "    <tr>\n",
       "      <th>2</th>\n",
       "      <td>The Voice Final Performances — Duets win the day</td>\n",
       "      <td>e</td>\n",
       "    </tr>\n",
       "    <tr>\n",
       "      <th>3</th>\n",
       "      <td>AbbVie Bid for Shire Rejected as Low</td>\n",
       "      <td>b</td>\n",
       "    </tr>\n",
       "    <tr>\n",
       "      <th>4</th>\n",
       "      <td>Aereo's Supreme Court loss a big victory for T...</td>\n",
       "      <td>t</td>\n",
       "    </tr>\n",
       "    <tr>\n",
       "      <th>...</th>\n",
       "      <td>...</td>\n",
       "      <td>...</td>\n",
       "    </tr>\n",
       "    <tr>\n",
       "      <th>19995</th>\n",
       "      <td>IMF says Russia Already in Recession</td>\n",
       "      <td>b</td>\n",
       "    </tr>\n",
       "    <tr>\n",
       "      <th>19996</th>\n",
       "      <td>Ikea Will Pay Its Workers a Living Wage</td>\n",
       "      <td>b</td>\n",
       "    </tr>\n",
       "    <tr>\n",
       "      <th>19997</th>\n",
       "      <td>Numsa plays hard ball as threat of investment ...</td>\n",
       "      <td>b</td>\n",
       "    </tr>\n",
       "    <tr>\n",
       "      <th>19998</th>\n",
       "      <td>Transparent rodents reveal details of inner an...</td>\n",
       "      <td>m</td>\n",
       "    </tr>\n",
       "    <tr>\n",
       "      <th>19999</th>\n",
       "      <td>Four New Cases of MERS-CoV are Reported to WHO</td>\n",
       "      <td>m</td>\n",
       "    </tr>\n",
       "  </tbody>\n",
       "</table>\n",
       "<p>20000 rows × 2 columns</p>\n",
       "</div>"
      ],
      "text/plain": [
       "                                                   TITLE CATEGORY\n",
       "0                        20 deadliest states for workers        m\n",
       "1      49ers QB Colin Kaepernick defends reputation a...        b\n",
       "2       The Voice Final Performances — Duets win the day        e\n",
       "3                   AbbVie Bid for Shire Rejected as Low        b\n",
       "4      Aereo's Supreme Court loss a big victory for T...        t\n",
       "...                                                  ...      ...\n",
       "19995               IMF says Russia Already in Recession        b\n",
       "19996            Ikea Will Pay Its Workers a Living Wage        b\n",
       "19997  Numsa plays hard ball as threat of investment ...        b\n",
       "19998  Transparent rodents reveal details of inner an...        m\n",
       "19999     Four New Cases of MERS-CoV are Reported to WHO        m\n",
       "\n",
       "[20000 rows x 2 columns]"
      ]
     },
     "execution_count": 5,
     "metadata": {},
     "output_type": "execute_result"
    }
   ],
   "source": [
    "e = df[df['CATEGORY'] == 'e'].sample(n=5000)\n",
    "b = df[df['CATEGORY'] == 'b'].sample(n=5000)\n",
    "t = df[df['CATEGORY'] == 't'].sample(n=5000)\n",
    "m = df[df['CATEGORY'] == 'm'].sample(n=5000)\n",
    "df_selected = pd.concat([e,b,t,m], ignore_index=True)\n",
    "df_selected = df_selected.reindex(np.random.permutation(df_selected.index)).reset_index(drop=True)\n",
    "df_selected "
   ]
  },
  {
   "attachments": {},
   "cell_type": "markdown",
   "id": "27bb3708",
   "metadata": {},
   "source": [
    "## Data Preparation"
   ]
  },
  {
   "cell_type": "code",
   "execution_count": 6,
   "id": "c9f26876",
   "metadata": {},
   "outputs": [
    {
     "data": {
      "text/html": [
       "<div>\n",
       "<style scoped>\n",
       "    .dataframe tbody tr th:only-of-type {\n",
       "        vertical-align: middle;\n",
       "    }\n",
       "\n",
       "    .dataframe tbody tr th {\n",
       "        vertical-align: top;\n",
       "    }\n",
       "\n",
       "    .dataframe thead th {\n",
       "        text-align: right;\n",
       "    }\n",
       "</style>\n",
       "<table border=\"1\" class=\"dataframe\">\n",
       "  <thead>\n",
       "    <tr style=\"text-align: right;\">\n",
       "      <th></th>\n",
       "      <th>TITLE</th>\n",
       "      <th>CATEGORY</th>\n",
       "      <th>TARGET</th>\n",
       "    </tr>\n",
       "  </thead>\n",
       "  <tbody>\n",
       "    <tr>\n",
       "      <th>0</th>\n",
       "      <td>20 deadliest states for workers</td>\n",
       "      <td>m</td>\n",
       "      <td>3</td>\n",
       "    </tr>\n",
       "    <tr>\n",
       "      <th>1</th>\n",
       "      <td>49ers QB Colin Kaepernick defends reputation a...</td>\n",
       "      <td>b</td>\n",
       "      <td>2</td>\n",
       "    </tr>\n",
       "    <tr>\n",
       "      <th>2</th>\n",
       "      <td>The Voice Final Performances — Duets win the day</td>\n",
       "      <td>e</td>\n",
       "      <td>0</td>\n",
       "    </tr>\n",
       "    <tr>\n",
       "      <th>3</th>\n",
       "      <td>AbbVie Bid for Shire Rejected as Low</td>\n",
       "      <td>b</td>\n",
       "      <td>2</td>\n",
       "    </tr>\n",
       "    <tr>\n",
       "      <th>4</th>\n",
       "      <td>Aereo's Supreme Court loss a big victory for T...</td>\n",
       "      <td>t</td>\n",
       "      <td>1</td>\n",
       "    </tr>\n",
       "    <tr>\n",
       "      <th>...</th>\n",
       "      <td>...</td>\n",
       "      <td>...</td>\n",
       "      <td>...</td>\n",
       "    </tr>\n",
       "    <tr>\n",
       "      <th>19995</th>\n",
       "      <td>IMF says Russia Already in Recession</td>\n",
       "      <td>b</td>\n",
       "      <td>2</td>\n",
       "    </tr>\n",
       "    <tr>\n",
       "      <th>19996</th>\n",
       "      <td>Ikea Will Pay Its Workers a Living Wage</td>\n",
       "      <td>b</td>\n",
       "      <td>2</td>\n",
       "    </tr>\n",
       "    <tr>\n",
       "      <th>19997</th>\n",
       "      <td>Numsa plays hard ball as threat of investment ...</td>\n",
       "      <td>b</td>\n",
       "      <td>2</td>\n",
       "    </tr>\n",
       "    <tr>\n",
       "      <th>19998</th>\n",
       "      <td>Transparent rodents reveal details of inner an...</td>\n",
       "      <td>m</td>\n",
       "      <td>3</td>\n",
       "    </tr>\n",
       "    <tr>\n",
       "      <th>19999</th>\n",
       "      <td>Four New Cases of MERS-CoV are Reported to WHO</td>\n",
       "      <td>m</td>\n",
       "      <td>3</td>\n",
       "    </tr>\n",
       "  </tbody>\n",
       "</table>\n",
       "<p>20000 rows × 3 columns</p>\n",
       "</div>"
      ],
      "text/plain": [
       "                                                   TITLE CATEGORY  TARGET\n",
       "0                        20 deadliest states for workers        m       3\n",
       "1      49ers QB Colin Kaepernick defends reputation a...        b       2\n",
       "2       The Voice Final Performances — Duets win the day        e       0\n",
       "3                   AbbVie Bid for Shire Rejected as Low        b       2\n",
       "4      Aereo's Supreme Court loss a big victory for T...        t       1\n",
       "...                                                  ...      ...     ...\n",
       "19995               IMF says Russia Already in Recession        b       2\n",
       "19996            Ikea Will Pay Its Workers a Living Wage        b       2\n",
       "19997  Numsa plays hard ball as threat of investment ...        b       2\n",
       "19998  Transparent rodents reveal details of inner an...        m       3\n",
       "19999     Four New Cases of MERS-CoV are Reported to WHO        m       3\n",
       "\n",
       "[20000 rows x 3 columns]"
      ]
     },
     "execution_count": 6,
     "metadata": {},
     "output_type": "execute_result"
    }
   ],
   "source": [
    "def encoded(category):\n",
    "    \"\"\"returns the respective encoded category value\"\"\"\n",
    "    if category == \"e\":\n",
    "        return 0\n",
    "    elif category == \"t\":\n",
    "        return 1\n",
    "    elif category == \"b\":\n",
    "        return 2\n",
    "    elif category == \"m\":\n",
    "        return 3\n",
    "\n",
    "df_selected['TARGET'] = df_selected.apply(lambda x: encoded(x['CATEGORY']), axis=1)\n",
    "\n",
    "df_selected"
   ]
  },
  {
   "cell_type": "code",
   "execution_count": 10,
   "id": "7c22bdc4",
   "metadata": {},
   "outputs": [],
   "source": [
    "seed = 18\n",
    " \n",
    "X = df_selected['TITLE']\n",
    "y = df_selected['TARGET']\n",
    "\n",
    "# splitting data into training, testing, and validation sets \n",
    "X_train, X_test, y_train, y_test = train_test_split(X, y, test_size=0.20, random_state=seed)\n",
    "X_train, X_val, y_train, y_val = train_test_split(X_train, y_train, test_size=0.10, random_state=seed)"
   ]
  },
  {
   "attachments": {},
   "cell_type": "markdown",
   "id": "cbc440ab",
   "metadata": {},
   "source": [
    "## Tokenization"
   ]
  },
  {
   "cell_type": "code",
   "execution_count": 11,
   "id": "1d0c46c1",
   "metadata": {},
   "outputs": [],
   "source": [
    "tokenizer = AutoTokenizer.from_pretrained('distilbert-base-uncased')"
   ]
  },
  {
   "cell_type": "code",
   "execution_count": 12,
   "id": "913dcd77",
   "metadata": {},
   "outputs": [
    {
     "name": "stdout",
     "output_type": "stream",
     "text": [
      "Tokenizer vocab size = 30522\n",
      "['bees', '[unused91]', 'murmurs', 'intellect', 'interceptions', 'lust', '##can', 'compulsory', 'croix', 'titus', '##uj', 'clashed', 'scroll', 'confronting', 'rodriguez', 'mason', 'bingo', '##خ', 'nazis', 'ventures']\n"
     ]
    }
   ],
   "source": [
    "print(f\"Tokenizer vocab size = {tokenizer.vocab_size}\")\n",
    "print(list(tokenizer.vocab.keys())[6000:6020])"
   ]
  },
  {
   "cell_type": "code",
   "execution_count": 13,
   "id": "881de5ba",
   "metadata": {},
   "outputs": [],
   "source": [
    "train_texts = X_train.to_list()\n",
    "train_labels = y_train.tolist()\n",
    "val_texts = X_val.to_list()\n",
    "val_labels = y_val.tolist()\n",
    "test_texts = X_test.to_list()\n",
    "test_labels = y_test.tolist()"
   ]
  },
  {
   "cell_type": "code",
   "execution_count": 14,
   "id": "e5d67600",
   "metadata": {},
   "outputs": [],
   "source": [
    "train_encodings = tokenizer(train_texts, padding=True, truncation=True)\n",
    "val_encodings = tokenizer(val_texts, padding=True, truncation=True)\n",
    "test_encodings = tokenizer(test_texts, padding=True, truncation=True)"
   ]
  },
  {
   "cell_type": "code",
   "execution_count": 15,
   "id": "f1fa7ef9",
   "metadata": {},
   "outputs": [],
   "source": [
    "batch_size = 16\n",
    "\n",
    "train_dataset = tf.data.Dataset.from_tensor_slices((\n",
    "    dict(train_encodings),\n",
    "    train_labels\n",
    ")).batch(batch_size)\n",
    "\n",
    "val_dataset = tf.data.Dataset.from_tensor_slices((\n",
    "    dict(val_encodings),\n",
    "    val_labels\n",
    ")).batch(batch_size)\n",
    "\n",
    "test_dataset = tf.data.Dataset.from_tensor_slices((\n",
    "    dict(test_encodings),\n",
    "    test_labels\n",
    ")).batch(batch_size)"
   ]
  },
  {
   "attachments": {},
   "cell_type": "markdown",
   "id": "8bbf9fdd",
   "metadata": {},
   "source": [
    "## Fine-tuning the model"
   ]
  },
  {
   "cell_type": "code",
   "execution_count": 58,
   "id": "b04889ef",
   "metadata": {},
   "outputs": [
    {
     "name": "stderr",
     "output_type": "stream",
     "text": [
      "Some layers from the model checkpoint at distilbert-base-uncased were not used when initializing TFDistilBertForSequenceClassification: ['vocab_layer_norm', 'activation_13', 'vocab_projector', 'vocab_transform']\n",
      "- This IS expected if you are initializing TFDistilBertForSequenceClassification from the checkpoint of a model trained on another task or with another architecture (e.g. initializing a BertForSequenceClassification model from a BertForPreTraining model).\n",
      "- This IS NOT expected if you are initializing TFDistilBertForSequenceClassification from the checkpoint of a model that you expect to be exactly identical (initializing a BertForSequenceClassification model from a BertForSequenceClassification model).\n",
      "Some layers of TFDistilBertForSequenceClassification were not initialized from the model checkpoint at distilbert-base-uncased and are newly initialized: ['dropout_59', 'classifier', 'pre_classifier']\n",
      "You should probably TRAIN this model on a down-stream task to be able to use it for predictions and inference.\n"
     ]
    }
   ],
   "source": [
    "model = TFAutoModelForSequenceClassification.from_pretrained(\n",
    "        \"distilbert-base-uncased\",num_labels=4)"
   ]
  },
  {
   "cell_type": "code",
   "execution_count": 17,
   "id": "14b4e8c1",
   "metadata": {},
   "outputs": [],
   "source": [
    "num_epochs = 1\n",
    "\n",
    "# The number of training steps is the number of samples in the dataset, divided by the batch size then multiplied\n",
    "# by the total number of epochs. Since our dataset is already batched, we can simply take the len.\n",
    "num_train_steps = len(train_dataset) * num_epochs\n",
    "\n",
    "lr_scheduler = PolynomialDecay(\n",
    "    initial_learning_rate=5e-5, end_learning_rate=0.0, decay_steps=num_train_steps\n",
    ")"
   ]
  },
  {
   "cell_type": "code",
   "execution_count": 52,
   "id": "f5abffd7",
   "metadata": {},
   "outputs": [
    {
     "name": "stdout",
     "output_type": "stream",
     "text": [
      "900/900 [==============================] - 1087s 1s/step - loss: 0.1936 - accuracy: 0.9330 - val_loss: 0.2407 - val_accuracy: 0.9187\n"
     ]
    },
    {
     "data": {
      "text/plain": [
       "<keras.callbacks.History at 0x20edc6663a0>"
      ]
     },
     "execution_count": 52,
     "metadata": {},
     "output_type": "execute_result"
    }
   ],
   "source": [
    "opt = Adam(learning_rate=lr_scheduler)\n",
    "\n",
    "loss = tf.keras.losses.SparseCategoricalCrossentropy(from_logits=True)\n",
    "model.compile(optimizer=opt, loss=loss, metrics=[\"accuracy\"])\n",
    "\n",
    "model.fit(train_dataset, validation_data=val_dataset, epochs=num_epochs)"
   ]
  },
  {
   "cell_type": "code",
   "execution_count": 53,
   "id": "a724b0d6",
   "metadata": {},
   "outputs": [
    {
     "name": "stdout",
     "output_type": "stream",
     "text": [
      "250/250 [==============================] - 46s 179ms/step - loss: 0.2398 - accuracy: 0.9172\n"
     ]
    },
    {
     "data": {
      "text/plain": [
       "[0.23979614675045013, 0.9172499775886536]"
      ]
     },
     "execution_count": 53,
     "metadata": {},
     "output_type": "execute_result"
    }
   ],
   "source": [
    "model.evaluate(test_dataset)"
   ]
  },
  {
   "attachments": {},
   "cell_type": "markdown",
   "id": "189abc6b",
   "metadata": {},
   "source": [
    "## Testing the model on untrained/unseen headlines"
   ]
  },
  {
   "cell_type": "code",
   "execution_count": 54,
   "id": "0f6e48a7",
   "metadata": {},
   "outputs": [
    {
     "name": "stdout",
     "output_type": "stream",
     "text": [
      "tf.Tensor([[0.96278346 0.01595769 0.01345383 0.00780493]], shape=(1, 4), dtype=float32)\n",
      "entertainment\n"
     ]
    }
   ],
   "source": [
    "text = \"Pop star to start fashion company\"\n",
    "inputs = tokenizer(text, return_tensors=\"tf\")\n",
    "output = model(inputs)\n",
    "pred_prob = tf.nn.softmax(output.logits, axis=-1)\n",
    "print(pred_prob)\n",
    "pred = np.argmax(pred_prob)\n",
    "labels = ['entertainment', 'science/tech', 'business', 'health']\n",
    "print(labels[np.argmax(pred_prob)])"
   ]
  },
  {
   "cell_type": "code",
   "execution_count": 55,
   "id": "9b04b78e",
   "metadata": {},
   "outputs": [
    {
     "name": "stdout",
     "output_type": "stream",
     "text": [
      "tf.Tensor([[0.04672822 0.6163599  0.15213916 0.18477274]], shape=(1, 4), dtype=float32)\n",
      "science/tech\n"
     ]
    }
   ],
   "source": [
    "text = \"Revolutionary methods for discovering new materials\"\n",
    "inputs = tokenizer(text, return_tensors=\"tf\")\n",
    "output = model(inputs)\n",
    "pred_prob = tf.nn.softmax(output.logits, axis=-1)\n",
    "print(pred_prob)\n",
    "pred = np.argmax(pred_prob)\n",
    "labels = ['entertainment', 'science/tech', 'business', 'health']\n",
    "print(labels[np.argmax(pred_prob)])"
   ]
  },
  {
   "cell_type": "code",
   "execution_count": 56,
   "id": "40856d9b",
   "metadata": {},
   "outputs": [
    {
     "name": "stdout",
     "output_type": "stream",
     "text": [
      "tf.Tensor([[5.5752648e-04 6.5813232e-03 9.9111384e-01 1.7472489e-03]], shape=(1, 4), dtype=float32)\n",
      "business\n"
     ]
    }
   ],
   "source": [
    "text = \"Rebranded bank will target global growth\"\n",
    "inputs = tokenizer(text, return_tensors=\"tf\")\n",
    "output = model(inputs)\n",
    "pred_prob = tf.nn.softmax(output.logits, axis=-1)\n",
    "print(pred_prob)\n",
    "pred = np.argmax(pred_prob)\n",
    "labels = ['entertainment', 'science/tech', 'business', 'health']\n",
    "print(labels[np.argmax(pred_prob)])"
   ]
  },
  {
   "cell_type": "code",
   "execution_count": 57,
   "id": "cd5da2f5",
   "metadata": {},
   "outputs": [
    {
     "name": "stdout",
     "output_type": "stream",
     "text": [
      "tf.Tensor([[4.3970757e-04 7.1494072e-04 1.1743810e-03 9.9767095e-01]], shape=(1, 4), dtype=float32)\n",
      "health\n"
     ]
    }
   ],
   "source": [
    "text = \"A new sustainable vaccination against Ebola developed.\"\n",
    "inputs = tokenizer(text, return_tensors=\"tf\")\n",
    "output = model(inputs)\n",
    "pred_prob = tf.nn.softmax(output.logits, axis=-1)\n",
    "print(pred_prob)\n",
    "pred = np.argmax(pred_prob)\n",
    "labels = ['entertainment', 'science/tech', 'business', 'health']\n",
    "print(labels[np.argmax(pred_prob)])"
   ]
  },
  {
   "attachments": {},
   "cell_type": "markdown",
   "id": "0c8133eb",
   "metadata": {},
   "source": [
    "## End of Notebook"
   ]
  }
 ],
 "metadata": {
  "kernelspec": {
   "display_name": "Python 3 (ipykernel)",
   "language": "python",
   "name": "python3"
  },
  "language_info": {
   "codemirror_mode": {
    "name": "ipython",
    "version": 3
   },
   "file_extension": ".py",
   "mimetype": "text/x-python",
   "name": "python",
   "nbconvert_exporter": "python",
   "pygments_lexer": "ipython3",
   "version": "3.9.12"
  }
 },
 "nbformat": 4,
 "nbformat_minor": 5
}
